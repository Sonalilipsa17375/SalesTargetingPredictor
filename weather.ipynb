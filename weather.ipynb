{
 "cells": [
  {
   "cell_type": "code",
   "execution_count": 7,
   "metadata": {},
   "outputs": [
    {
     "data": {
      "text/plain": [
       "'In an e-commerce company, the management wants to predict wheteher a customer will purchase a high-value product based on their age ,time-spent on the website ,and whether they hv added items to their cart.The goal is to optimize marketing strategies by targeting potential customers more effectively, therby increasing sales and revenure'"
      ]
     },
     "execution_count": 7,
     "metadata": {},
     "output_type": "execute_result"
    }
   ],
   "source": [
    "# problem statement\n",
    "'''In an e-commerce company, the management wants to predict wheteher a customer will purchase a high-value product based on their age ,time-spent on the website ,and whether they hv added items to their cart.The goal is to optimize marketing strategies by targeting potential customers more effectively, therby increasing sales and revenure'''"
   ]
  },
  {
   "cell_type": "code",
   "execution_count": 8,
   "metadata": {},
   "outputs": [
    {
     "name": "stdout",
     "output_type": "stream",
     "text": [
      "Model accuracy: 1.0\n"
     ]
    },
    {
     "name": "stdout",
     "output_type": "stream",
     "text": [
      "customer is unlikely to purchase.\n"
     ]
    }
   ],
   "source": [
    "import numpy as np\n",
    "from sklearn.model_selection import train_test_split\n",
    "from sklearn.linear_model import LogisticRegression\n",
    "X = np.array([[25,30,0],[30,40,1],[20,35,0],[35,45,1]])\n",
    "y = np.array([0,1,0,1])\n",
    "X_train,X_test,y_train,y_test =train_test_split(X,y,train_size = 0.8,random_state=42)\n",
    "model = LogisticRegression()\n",
    "model.fit(X_train,y_train)\n",
    "accuracy = model.score(X_test,y_test)\n",
    "print(f\"Model accuracy: {accuracy}\")\n",
    "user_age = float(input(\"Enter customer age- \"))\n",
    "user_timespent = float(input(\"enter time spent in website- \"))\n",
    "user_added_tocart = int(input(\"enter 1 if added 0 else- \"))\n",
    "user_data =np.array([[user_age,user_timespent,user_added_tocart]])\n",
    "prediction = model.predict(user_data)\n",
    "if prediction[0] == 1 :\n",
    "    print('The Customer is Likely to purchase')\n",
    "else:\n",
    "    print('customer is unlikely to purchase.')\n"
   ]
  }
 ],
 "metadata": {
  "kernelspec": {
   "display_name": "Python 3",
   "language": "python",
   "name": "python3"
  },
  "language_info": {
   "codemirror_mode": {
    "name": "ipython",
    "version": 3
   },
   "file_extension": ".py",
   "mimetype": "text/x-python",
   "name": "python",
   "nbconvert_exporter": "python",
   "pygments_lexer": "ipython3",
   "version": "3.12.2"
  }
 },
 "nbformat": 4,
 "nbformat_minor": 2
}
